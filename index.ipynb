{
 "cells": [
  {
   "cell_type": "code",
   "execution_count": 1,
   "id": "8f8384c4",
   "metadata": {},
   "outputs": [
    {
     "name": "stdout",
     "output_type": "stream",
     "text": [
      "hello\n"
     ]
    }
   ],
   "source": [
    "print('hello')"
   ]
  },
  {
   "cell_type": "code",
   "execution_count": 2,
   "id": "06dcfabd",
   "metadata": {},
   "outputs": [
    {
     "name": "stdout",
     "output_type": "stream",
     "text": [
      "Package                 Version\n",
      "----------------------- -----------\n",
      "asttokens               3.0.0\n",
      "colorama                0.4.6\n",
      "comm                    0.2.3\n",
      "debugpy                 1.8.17\n",
      "decorator               5.2.1\n",
      "executing               2.2.1\n",
      "ipykernel               7.0.1\n",
      "ipython                 9.6.0\n",
      "ipython_pygments_lexers 1.1.1\n",
      "jedi                    0.19.2\n",
      "jupyter_client          8.6.3\n",
      "jupyter_core            5.9.1\n",
      "matplotlib-inline       0.1.7\n",
      "nest-asyncio            1.6.0\n",
      "packaging               25.0\n",
      "parso                   0.8.5\n",
      "pip                     24.0\n",
      "platformdirs            4.5.0\n",
      "prompt_toolkit          3.0.52\n",
      "psutil                  7.1.1\n",
      "pure_eval               0.2.3\n",
      "Pygments                2.19.2\n",
      "python-dateutil         2.9.0.post0\n",
      "pyzmq                   27.1.0\n",
      "setuptools              65.5.0\n",
      "six                     1.17.0\n",
      "stack-data              0.6.3\n",
      "tornado                 6.5.2\n",
      "traitlets               5.14.3\n",
      "typing_extensions       4.15.0\n",
      "wcwidth                 0.2.14\n",
      "Note: you may need to restart the kernel to use updated packages.\n"
     ]
    },
    {
     "name": "stderr",
     "output_type": "stream",
     "text": [
      "\n",
      "[notice] A new release of pip is available: 24.0 -> 25.2\n",
      "[notice] To update, run: python.exe -m pip install --upgrade pip\n"
     ]
    }
   ],
   "source": [
    "pip list"
   ]
  },
  {
   "cell_type": "code",
   "execution_count": 3,
   "id": "bc854aa0",
   "metadata": {},
   "outputs": [
    {
     "name": "stdout",
     "output_type": "stream",
     "text": [
      "Collecting psycopg2-binary\n",
      "  Downloading psycopg2_binary-2.9.11-cp311-cp311-win_amd64.whl.metadata (5.1 kB)\n",
      "Downloading psycopg2_binary-2.9.11-cp311-cp311-win_amd64.whl (2.7 MB)\n",
      "   ---------------------------------------- 0.0/2.7 MB ? eta -:--:--\n",
      "   ---------------------------------------- 0.0/2.7 MB ? eta -:--:--\n",
      "    --------------------------------------- 0.0/2.7 MB 667.8 kB/s eta 0:00:05\n",
      "   ----- ---------------------------------- 0.4/2.7 MB 3.2 MB/s eta 0:00:01\n",
      "   ------------ --------------------------- 0.8/2.7 MB 5.9 MB/s eta 0:00:01\n",
      "   -------------------- ------------------- 1.4/2.7 MB 7.3 MB/s eta 0:00:01\n",
      "   ---------------------------- ----------- 1.9/2.7 MB 8.2 MB/s eta 0:00:01\n",
      "   ------------------------------------ --- 2.5/2.7 MB 8.7 MB/s eta 0:00:01\n",
      "   ---------------------------------------- 2.7/2.7 MB 8.2 MB/s eta 0:00:00\n",
      "Installing collected packages: psycopg2-binary\n",
      "Successfully installed psycopg2-binary-2.9.11\n"
     ]
    },
    {
     "name": "stderr",
     "output_type": "stream",
     "text": [
      "\n",
      "[notice] A new release of pip is available: 24.0 -> 25.2\n",
      "[notice] To update, run: python.exe -m pip install --upgrade pip\n"
     ]
    }
   ],
   "source": [
    "!pip install psycopg2-binary"
   ]
  },
  {
   "cell_type": "code",
   "execution_count": 4,
   "id": "fddf30a4",
   "metadata": {},
   "outputs": [],
   "source": [
    "import psycopg2"
   ]
  },
  {
   "cell_type": "code",
   "execution_count": null,
   "id": "8d62f7e2",
   "metadata": {},
   "outputs": [],
   "source": [
    "conn = psycopg2.connect(\n",
    "    host = 'localhost',\n",
    "    port = 5432,\n",
    "    database = 'postgres',\n",
    "    user = 'postgres',\n",
    "    password = '1111' \n",
    ")"
   ]
  },
  {
   "cell_type": "code",
   "execution_count": 6,
   "id": "7fbe22d6",
   "metadata": {},
   "outputs": [],
   "source": [
    "cur = conn.cursor()"
   ]
  },
  {
   "cell_type": "code",
   "execution_count": 17,
   "id": "c96f8be9",
   "metadata": {},
   "outputs": [],
   "source": [
    "query = 'SELECT * FROM public.user_info;'\n",
    "cur.execute(query)"
   ]
  },
  {
   "cell_type": "code",
   "execution_count": 18,
   "id": "f8fe202a",
   "metadata": {},
   "outputs": [
    {
     "data": {
      "text/plain": [
       "[('jimin', '박지민', '9510131234567', 'SK', '01011111111'),\n",
       " ('jungkuk', '전정국', '9709011234567', 'KT', '01022222222'),\n",
       " ('sugar', '민윤기', '9309011234567', 'LG', '01033333333'),\n",
       " ('chris', '크리스', '9510132222222', 'SK', '01055555555'),\n",
       " ('chris2', '인선미', '9511132222222', 'SK', '01055555555'),\n",
       " ('chris3', '인선미', '9511132222222', 'SK', '01055555555'),\n",
       " ('chris4', '인선미', '9511132222222', 'SK', '01055555555')]"
      ]
     },
     "execution_count": 18,
     "metadata": {},
     "output_type": "execute_result"
    }
   ],
   "source": [
    "row = cur.fetchall()\n",
    "row"
   ]
  },
  {
   "cell_type": "code",
   "execution_count": 15,
   "id": "da9b9c4b",
   "metadata": {},
   "outputs": [],
   "source": [
    "query = \"INSERT INTO public.user_info values ('chris4', '인선미', '9511132222222', 'SK', '01055555555');\"\n",
    "cur.execute(query)"
   ]
  },
  {
   "cell_type": "code",
   "execution_count": 16,
   "id": "a1cdc494",
   "metadata": {},
   "outputs": [],
   "source": [
    "conn.commit()"
   ]
  },
  {
   "cell_type": "code",
   "execution_count": 19,
   "id": "e9b542f9",
   "metadata": {},
   "outputs": [],
   "source": [
    "cur.close()\n",
    "conn.close()"
   ]
  },
  {
   "cell_type": "code",
   "execution_count": 14,
   "id": "5fd98d13",
   "metadata": {},
   "outputs": [],
   "source": [
    "conn.rollback()"
   ]
  }
 ],
 "metadata": {
  "kernelspec": {
   "display_name": "Python(dataproject)",
   "language": "python",
   "name": "dataproject"
  },
  "language_info": {
   "codemirror_mode": {
    "name": "ipython",
    "version": 3
   },
   "file_extension": ".py",
   "mimetype": "text/x-python",
   "name": "python",
   "nbconvert_exporter": "python",
   "pygments_lexer": "ipython3",
   "version": "3.11.9"
  }
 },
 "nbformat": 4,
 "nbformat_minor": 5
}
